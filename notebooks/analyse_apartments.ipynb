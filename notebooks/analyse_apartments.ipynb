{
 "cells": [
  {
   "cell_type": "code",
   "execution_count": 1,
   "metadata": {},
   "outputs": [],
   "source": [
    "import polars as pl"
   ]
  },
  {
   "cell_type": "code",
   "execution_count": 9,
   "metadata": {},
   "outputs": [
    {
     "name": "stdout",
     "output_type": "stream",
     "text": [
      "env: AWS_DEFAULT_REGION=eu-central-1\n"
     ]
    }
   ],
   "source": [
    "%env AWS_DEFAULT_REGION=eu-central-1"
   ]
  },
  {
   "cell_type": "code",
   "execution_count": 8,
   "metadata": {},
   "outputs": [
    {
     "name": "stderr",
     "output_type": "stream",
     "text": [
      "/tmp/ipykernel_100126/350685452.py:1: UserWarning: '(default_)region' not set; polars will try to get it from bucket\n",
      "\n",
      "Set the region manually to silence this warning.\n",
      "  apartments = pl.scan_parquet(\n"
     ]
    },
    {
     "ename": "ComputeError",
     "evalue": "Generic S3 error: Error after 2 retries in 3.079172646s, max_retries:2, retry_timeout:10s, source:error sending request for url (http://169.254.169.254/latest/api/token): error trying to connect: tcp connect error: No route to host (os error 113)",
     "output_type": "error",
     "traceback": [
      "\u001b[0;31m---------------------------------------------------------------------------\u001b[0m",
      "\u001b[0;31mComputeError\u001b[0m                              Traceback (most recent call last)",
      "Cell \u001b[0;32mIn[8], line 1\u001b[0m\n\u001b[0;32m----> 1\u001b[0m apartments \u001b[39m=\u001b[39m pl\u001b[39m.\u001b[39;49mscan_parquet(\n\u001b[1;32m      2\u001b[0m     \u001b[39m\"\u001b[39;49m\u001b[39ms3://my-data-integrations/apartments-netherlands/**/*.parquet\u001b[39;49m\u001b[39m\"\u001b[39;49m\n\u001b[1;32m      3\u001b[0m )\n\u001b[1;32m      4\u001b[0m apartments\n",
      "File \u001b[0;32m~/miniconda3/envs/web-crawling/lib/python3.10/site-packages/polars/io/parquet/functions.py:268\u001b[0m, in \u001b[0;36mscan_parquet\u001b[0;34m(source, n_rows, cache, parallel, rechunk, row_count_name, row_count_offset, storage_options, low_memory, use_statistics, hive_partitioning, retries)\u001b[0m\n\u001b[1;32m    265\u001b[0m \u001b[39melse\u001b[39;00m:\n\u001b[1;32m    266\u001b[0m     source \u001b[39m=\u001b[39m [normalize_filepath(source) \u001b[39mfor\u001b[39;00m source \u001b[39min\u001b[39;00m source]\n\u001b[0;32m--> 268\u001b[0m \u001b[39mreturn\u001b[39;00m pl\u001b[39m.\u001b[39;49mLazyFrame\u001b[39m.\u001b[39;49m_scan_parquet(\n\u001b[1;32m    269\u001b[0m     source,\n\u001b[1;32m    270\u001b[0m     n_rows\u001b[39m=\u001b[39;49mn_rows,\n\u001b[1;32m    271\u001b[0m     cache\u001b[39m=\u001b[39;49mcache,\n\u001b[1;32m    272\u001b[0m     parallel\u001b[39m=\u001b[39;49mparallel,\n\u001b[1;32m    273\u001b[0m     rechunk\u001b[39m=\u001b[39;49mrechunk,\n\u001b[1;32m    274\u001b[0m     row_count_name\u001b[39m=\u001b[39;49mrow_count_name,\n\u001b[1;32m    275\u001b[0m     row_count_offset\u001b[39m=\u001b[39;49mrow_count_offset,\n\u001b[1;32m    276\u001b[0m     storage_options\u001b[39m=\u001b[39;49mstorage_options,\n\u001b[1;32m    277\u001b[0m     low_memory\u001b[39m=\u001b[39;49mlow_memory,\n\u001b[1;32m    278\u001b[0m     use_statistics\u001b[39m=\u001b[39;49muse_statistics,\n\u001b[1;32m    279\u001b[0m     hive_partitioning\u001b[39m=\u001b[39;49mhive_partitioning,\n\u001b[1;32m    280\u001b[0m     retries\u001b[39m=\u001b[39;49mretries,\n\u001b[1;32m    281\u001b[0m )\n",
      "File \u001b[0;32m~/miniconda3/envs/web-crawling/lib/python3.10/site-packages/polars/lazyframe/frame.py:454\u001b[0m, in \u001b[0;36mLazyFrame._scan_parquet\u001b[0;34m(cls, source, n_rows, cache, parallel, rechunk, row_count_name, row_count_offset, storage_options, low_memory, use_statistics, hive_partitioning, retries)\u001b[0m\n\u001b[1;32m    451\u001b[0m     storage_options \u001b[39m=\u001b[39m \u001b[39mlist\u001b[39m(storage_options\u001b[39m.\u001b[39mitems())  \u001b[39m#  type: ignore[assignment]\u001b[39;00m\n\u001b[1;32m    453\u001b[0m \u001b[39mself\u001b[39m \u001b[39m=\u001b[39m \u001b[39mcls\u001b[39m\u001b[39m.\u001b[39m\u001b[39m__new__\u001b[39m(\u001b[39mcls\u001b[39m)\n\u001b[0;32m--> 454\u001b[0m \u001b[39mself\u001b[39m\u001b[39m.\u001b[39m_ldf \u001b[39m=\u001b[39m PyLazyFrame\u001b[39m.\u001b[39;49mnew_from_parquet(\n\u001b[1;32m    455\u001b[0m     source,\n\u001b[1;32m    456\u001b[0m     sources,\n\u001b[1;32m    457\u001b[0m     n_rows,\n\u001b[1;32m    458\u001b[0m     cache,\n\u001b[1;32m    459\u001b[0m     parallel,\n\u001b[1;32m    460\u001b[0m     rechunk,\n\u001b[1;32m    461\u001b[0m     _prepare_row_count_args(row_count_name, row_count_offset),\n\u001b[1;32m    462\u001b[0m     low_memory,\n\u001b[1;32m    463\u001b[0m     cloud_options\u001b[39m=\u001b[39;49mstorage_options,\n\u001b[1;32m    464\u001b[0m     use_statistics\u001b[39m=\u001b[39;49muse_statistics,\n\u001b[1;32m    465\u001b[0m     hive_partitioning\u001b[39m=\u001b[39;49mhive_partitioning,\n\u001b[1;32m    466\u001b[0m     retries\u001b[39m=\u001b[39;49mretries,\n\u001b[1;32m    467\u001b[0m )\n\u001b[1;32m    468\u001b[0m \u001b[39mreturn\u001b[39;00m \u001b[39mself\u001b[39m\n",
      "\u001b[0;31mComputeError\u001b[0m: Generic S3 error: Error after 2 retries in 3.079172646s, max_retries:2, retry_timeout:10s, source:error sending request for url (http://169.254.169.254/latest/api/token): error trying to connect: tcp connect error: No route to host (os error 113)"
     ]
    }
   ],
   "source": [
    "dset = ds.dataset(\"s3://my-partitioned-folder/\", format=\"parquet\")\n",
    "pl.scan_pyarrow_dataset(dset)"
   ]
  },
  {
   "cell_type": "code",
   "execution_count": null,
   "metadata": {},
   "outputs": [],
   "source": []
  }
 ],
 "metadata": {
  "kernelspec": {
   "display_name": "Python 3 (ipykernel)",
   "language": "python",
   "name": "python3"
  },
  "language_info": {
   "codemirror_mode": {
    "name": "ipython",
    "version": 3
   },
   "file_extension": ".py",
   "mimetype": "text/x-python",
   "name": "python",
   "nbconvert_exporter": "python",
   "pygments_lexer": "ipython3",
   "version": "3.10.13"
  }
 },
 "nbformat": 4,
 "nbformat_minor": 2
}
