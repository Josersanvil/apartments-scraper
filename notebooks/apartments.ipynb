{
 "cells": [
  {
   "cell_type": "code",
   "execution_count": 14,
   "metadata": {},
   "outputs": [],
   "source": [
    "import chromedriver_autoinstaller\n",
    "from selenium import webdriver\n",
    "from bs4 import BeautifulSoup\n",
    "import bs4"
   ]
  },
  {
   "cell_type": "code",
   "execution_count": 15,
   "metadata": {},
   "outputs": [
    {
     "name": "stderr",
     "output_type": "stream",
     "text": [
      "WARNING:root:Can not find chromedriver for currently installed chrome version.\n"
     ]
    }
   ],
   "source": [
    "chromedriver_autoinstaller.install()"
   ]
  },
  {
   "cell_type": "code",
   "execution_count": 16,
   "metadata": {},
   "outputs": [],
   "source": [
    "webdriver_options = webdriver.ChromeOptions()\n",
    "webdriver_options.add_argument('--headless')\n",
    "webdriver_options.add_argument('--no-sandbox')\n",
    "webdriver_options.add_argument('--disable-dev-shm-usage')\n",
    "webdriver_options.add_argument('--disable-gpu')\n",
    "webdriver_options.add_argument('--disable-extentions')"
   ]
  },
  {
   "cell_type": "code",
   "execution_count": 17,
   "metadata": {},
   "outputs": [
    {
     "data": {
      "text/plain": [
       "'https://www.pararius.com'"
      ]
     },
     "execution_count": 17,
     "metadata": {},
     "output_type": "execute_result"
    }
   ],
   "source": [
    "from datetime import date\n",
    "from datetime import datetime\n",
    "import os\n",
    "import urllib\n",
    "\n",
    "city = \"utrecht\"\n",
    "url = f\"https://www.pararius.com/apartments/{city}/0-1750/1-bedrooms/furnished/50m2\"\n",
    "date_now = date.today().strftime(\"%Y-%m-%d\")\n",
    "ts_now = datetime.now().timestamp()\n",
    "\n",
    "DATA_OUTPUTS_DIR = \"data/apartments-list/city={city}/date={date}\"\n",
    "os.makedirs(DATA_OUTPUTS_DIR.format(city=city, date=date_now), exist_ok=True)\n",
    "\n",
    "base_url = urllib.parse.urlparse(url).scheme + \"://\" + urllib.parse.urlparse(url).netloc\n",
    "base_url"
   ]
  },
  {
   "cell_type": "code",
   "execution_count": 21,
   "metadata": {},
   "outputs": [],
   "source": [
    "driver = webdriver.Chrome(options=webdriver_options)\n",
    "driver.get(url)"
   ]
  },
  {
   "cell_type": "code",
   "execution_count": 22,
   "metadata": {},
   "outputs": [],
   "source": [
    "html = driver.page_source\n",
    "\n",
    "with open(f\"{DATA_OUTPUTS_DIR.format(city=city, date=date_now)}/{ts_now}.html\", \"w\") as f:\n",
    "    f.write(html)"
   ]
  },
  {
   "cell_type": "code",
   "execution_count": 23,
   "metadata": {},
   "outputs": [],
   "source": [
    "driver.close()"
   ]
  },
  {
   "cell_type": "code",
   "execution_count": 8,
   "metadata": {},
   "outputs": [],
   "source": [
    "from typing import Any\n",
    "\n",
    "def extract_info_from_listing(listing:bs4.element.Tag) -> dict[str, Any]:\n",
    "    \"\"\"\n",
    "    Extracts information from a singular listing.\n",
    "    \"\"\"\n",
    "    title = listing.find(\"a\", class_=\"listing-search-item__link listing-search-item__link--title\").text.strip()\n",
    "    address = listing.find(\"div\", class_=\"listing-search-item__sub-title'\").text.strip()\n",
    "    price_text = listing.find(\"div\", class_=\"listing-search-item__price\").text.strip()\n",
    "    features_item = listing.find(\"div\", class_=\"listing-search-item__features\")\n",
    "    surface_area = features_item.find(\"li\", class_=\"illustrated-features__item illustrated-features__item--surface-area\")\n",
    "    n_rooms = features_item.find(\"li\", class_=\"illustrated-features__item illustrated-features__item--number-of-rooms\")\n",
    "    interior_type = features_item.find(\"li\", class_=\"illustrated-features__item illustrated-features__item--interior\")\n",
    "    listing_info_item = listing.find(\"div\", class_=\"listing-search-item__info\").find(\"a\", class_=\"listing-search-item__link\")\n",
    "    real_estate_company = listing_info_item.text.strip()\n",
    "    real_estate_company_url = listing_info_item.get(\"href\")\n",
    "    listing_url = listing.find(\"a\", class_=\"listing-search-item__link listing-search-item__link--title\").get(\"href\")\n",
    "    listing_thumbnail = listing.find(\"img\").get(\"src\")\n",
    "    return {\n",
    "        \"title\": title,\n",
    "        \"address\": address,\n",
    "        \"price_text\": price_text,\n",
    "        \"url\": base_url + listing_url,\n",
    "        \"thumbnail\": listing_thumbnail,\n",
    "        \"real_estate_company\": real_estate_company,\n",
    "        \"real_estate_company_url\": base_url + real_estate_company_url,\n",
    "        \"features\":{\n",
    "            \"surface_area\": surface_area.text.strip(),\n",
    "            \"n_rooms\": n_rooms.text.strip(),\n",
    "            \"interior_type\": interior_type.text.strip()\n",
    "        }\n",
    "    }"
   ]
  },
  {
   "cell_type": "code",
   "execution_count": 9,
   "metadata": {},
   "outputs": [
    {
     "name": "stdout",
     "output_type": "stream",
     "text": [
      "13\n"
     ]
    }
   ],
   "source": [
    "# Read the HTML text with BeautifulSoup:\n",
    "soup = BeautifulSoup(html, \"html.parser\")\n",
    "# Retrieve the element at: body > div.page__content > div.page__results > div:nth-child(3) > div > ul > li:nth-child(18)\n",
    "# Get all the elements of the unordered list that have the 'search-list__item--listing' class:\n",
    "listings = soup.find_all(\"li\", class_=\"search-list__item--listing\")\n",
    "print(len(listings))"
   ]
  },
  {
   "cell_type": "code",
   "execution_count": 10,
   "metadata": {},
   "outputs": [
    {
     "data": {
      "text/plain": [
       "13"
      ]
     },
     "execution_count": 10,
     "metadata": {},
     "output_type": "execute_result"
    }
   ],
   "source": [
    "listings_collection = []\n",
    "for listing in listings:\n",
    "    listings_collection.append(extract_info_from_listing(listing))\n",
    "len(listings_collection)"
   ]
  },
  {
   "cell_type": "code",
   "execution_count": 11,
   "metadata": {},
   "outputs": [
    {
     "data": {
      "text/html": [
       "<div><style>\n",
       ".dataframe > thead > tr,\n",
       ".dataframe > tbody > tr {\n",
       "  text-align: right;\n",
       "  white-space: pre-wrap;\n",
       "}\n",
       "</style>\n",
       "<small>shape: (13, 10)</small><table border=\"1\" class=\"dataframe\"><thead><tr><th>title</th><th>address</th><th>price_text</th><th>url</th><th>thumbnail</th><th>real_estate_company</th><th>real_estate_company_url</th><th>surface_area</th><th>n_rooms</th><th>interior_type</th></tr><tr><td>str</td><td>str</td><td>str</td><td>str</td><td>str</td><td>str</td><td>str</td><td>str</td><td>str</td><td>str</td></tr></thead><tbody><tr><td>&quot;Flat Aziëlaan&quot;</td><td>&quot;3526 SN Utrech…</td><td>&quot;€1,595 per mon…</td><td>&quot;https://www.pa…</td><td>&quot;https://casco-…</td><td>&quot;B&amp;S Rental Ser…</td><td>&quot;https://www.pa…</td><td>&quot;72 m²&quot;</td><td>&quot;2 rooms&quot;</td><td>&quot;Furnished&quot;</td></tr><tr><td>&quot;House Minahass…</td><td>&quot;3531 KW Utrech…</td><td>&quot;€1,470 per mon…</td><td>&quot;https://www.pa…</td><td>&quot;https://casco-…</td><td>&quot;Lemoo&quot;</td><td>&quot;https://www.pa…</td><td>&quot;60 m²&quot;</td><td>&quot;2 rooms&quot;</td><td>&quot;Part-furnished…</td></tr><tr><td>&quot;Flat Wittevrou…</td><td>&quot;3572 CA Utrech…</td><td>&quot;€1,200 per mon…</td><td>&quot;https://www.pa…</td><td>&quot;https://casco-…</td><td>&quot;Home by Theres…</td><td>&quot;https://www.pa…</td><td>&quot;60 m²&quot;</td><td>&quot;2 rooms&quot;</td><td>&quot;Furnished&quot;</td></tr><tr><td>&quot;Flat Nieuwe Pi…</td><td>&quot;3513 XT Utrech…</td><td>&quot;€1,650 per mon…</td><td>&quot;https://www.pa…</td><td>&quot;https://casco-…</td><td>&quot;Matton Residen…</td><td>&quot;https://www.pa…</td><td>&quot;55 m²&quot;</td><td>&quot;2 rooms&quot;</td><td>&quot;Furnished&quot;</td></tr><tr><td>&quot;Flat Pieter Ni…</td><td>&quot;3514 HG Utrech…</td><td>&quot;€1,550 per mon…</td><td>&quot;https://www.pa…</td><td>&quot;https://casco-…</td><td>&quot;Your-House&quot;</td><td>&quot;https://www.pa…</td><td>&quot;58 m²&quot;</td><td>&quot;2 rooms&quot;</td><td>&quot;Furnished&quot;</td></tr><tr><td>&quot;Flat Flamingos…</td><td>&quot;3582 SW Utrech…</td><td>&quot;€1,395 per mon…</td><td>&quot;https://www.pa…</td><td>&quot;https://casco-…</td><td>&quot;Amstel Housing…</td><td>&quot;https://www.pa…</td><td>&quot;58 m²&quot;</td><td>&quot;3 rooms&quot;</td><td>&quot;Furnished&quot;</td></tr><tr><td>&quot;Flat Herenstra…</td><td>&quot;3512 KC Utrech…</td><td>&quot;€1,725 per mon…</td><td>&quot;https://www.pa…</td><td>&quot;https://casco-…</td><td>&quot;Covers Wonen&quot;</td><td>&quot;https://www.pa…</td><td>&quot;58 m²&quot;</td><td>&quot;3 rooms&quot;</td><td>&quot;Furnished&quot;</td></tr><tr><td>&quot;Flat Willem Ba…</td><td>&quot;3572 PB Utrech…</td><td>&quot;€1,400 per mon…</td><td>&quot;https://www.pa…</td><td>&quot;https://casco-…</td><td>&quot;Rotsvast Utrec…</td><td>&quot;https://www.pa…</td><td>&quot;71 m²&quot;</td><td>&quot;2 rooms&quot;</td><td>&quot;Furnished&quot;</td></tr><tr><td>&quot;Flat Kanaalstr…</td><td>&quot;3531 CH Utrech…</td><td>&quot;€1,750 per mon…</td><td>&quot;https://www.pa…</td><td>&quot;https://casco-…</td><td>&quot;EU-Makelaardij…</td><td>&quot;https://www.pa…</td><td>&quot;55 m²&quot;</td><td>&quot;2 rooms&quot;</td><td>&quot;Furnished&quot;</td></tr><tr><td>&quot;Flat Niasstraa…</td><td>&quot;3531 WR Utrech…</td><td>&quot;€1,635 per mon…</td><td>&quot;https://www.pa…</td><td>&quot;https://casco-…</td><td>&quot;123Wonen Utrec…</td><td>&quot;https://www.pa…</td><td>&quot;85 m²&quot;</td><td>&quot;3 rooms&quot;</td><td>&quot;Furnished&quot;</td></tr><tr><td>&quot;House Bremstra…</td><td>&quot;3551 TB Utrech…</td><td>&quot;€1,695 per mon…</td><td>&quot;https://www.pa…</td><td>&quot;https://casco-…</td><td>&quot;123Wonen Utrec…</td><td>&quot;https://www.pa…</td><td>&quot;70 m²&quot;</td><td>&quot;3 rooms&quot;</td><td>&quot;Furnished&quot;</td></tr><tr><td>&quot;House Schelpst…</td><td>&quot;3581 VR Utrech…</td><td>&quot;€1,650 per mon…</td><td>&quot;https://www.pa…</td><td>&quot;https://casco-…</td><td>&quot;B&amp;S Rental Ser…</td><td>&quot;https://www.pa…</td><td>&quot;71 m²&quot;</td><td>&quot;3 rooms&quot;</td><td>&quot;Furnished&quot;</td></tr><tr><td>&quot;Flat Gruttersd…</td><td>&quot;3514 BH Utrech…</td><td>&quot;€1,550 per mon…</td><td>&quot;https://www.pa…</td><td>&quot;https://casco-…</td><td>&quot;MelvinBloemend…</td><td>&quot;https://www.pa…</td><td>&quot;51 m²&quot;</td><td>&quot;2 rooms&quot;</td><td>&quot;Furnished&quot;</td></tr></tbody></table></div>"
      ],
      "text/plain": [
       "shape: (13, 10)\n",
       "┌────────────┬───────────┬───────────┬───────────┬───┬───────────┬───────────┬─────────┬───────────┐\n",
       "│ title      ┆ address   ┆ price_tex ┆ url       ┆ … ┆ real_esta ┆ surface_a ┆ n_rooms ┆ interior_ │\n",
       "│ ---        ┆ ---       ┆ t         ┆ ---       ┆   ┆ te_compan ┆ rea       ┆ ---     ┆ type      │\n",
       "│ str        ┆ str       ┆ ---       ┆ str       ┆   ┆ y_url     ┆ ---       ┆ str     ┆ ---       │\n",
       "│            ┆           ┆ str       ┆           ┆   ┆ ---       ┆ str       ┆         ┆ str       │\n",
       "│            ┆           ┆           ┆           ┆   ┆ str       ┆           ┆         ┆           │\n",
       "╞════════════╪═══════════╪═══════════╪═══════════╪═══╪═══════════╪═══════════╪═════════╪═══════════╡\n",
       "│ Flat       ┆ 3526 SN   ┆ €1,595    ┆ https://w ┆ … ┆ https://w ┆ 72 m²     ┆ 2 rooms ┆ Furnished │\n",
       "│ Aziëlaan   ┆ Utrecht   ┆ per month ┆ ww.parari ┆   ┆ ww.parari ┆           ┆         ┆           │\n",
       "│            ┆ (Kanalene ┆           ┆ us.com/ap ┆   ┆ us.com/re ┆           ┆         ┆           │\n",
       "│            ┆ iland-Z…  ┆           ┆ artme…    ┆   ┆ al-es…    ┆           ┆         ┆           │\n",
       "│ House Mina ┆ 3531 KW   ┆ €1,470    ┆ https://w ┆ … ┆ https://w ┆ 60 m²     ┆ 2 rooms ┆ Part-furn │\n",
       "│ hassastraa ┆ Utrecht   ┆ per month ┆ ww.parari ┆   ┆ ww.parari ┆           ┆         ┆ ished or  │\n",
       "│ t          ┆ (Laan van ┆           ┆ us.com/ho ┆   ┆ us.com/re ┆           ┆         ┆ furnished │\n",
       "│            ┆ Nieuw-…   ┆           ┆ use-f…    ┆   ┆ al-es…    ┆           ┆         ┆           │\n",
       "│ Flat Witte ┆ 3572 CA   ┆ €1,200    ┆ https://w ┆ … ┆ https://w ┆ 60 m²     ┆ 2 rooms ┆ Furnished │\n",
       "│ vrouwensin ┆ Utrecht   ┆ per month ┆ ww.parari ┆   ┆ ww.parari ┆           ┆         ┆           │\n",
       "│ gel        ┆ (Wittevro ┆           ┆ us.com/ap ┆   ┆ us.com/re ┆           ┆         ┆           │\n",
       "│            ┆ uwen)     ┆           ┆ artme…    ┆   ┆ al-es…    ┆           ┆         ┆           │\n",
       "│ Flat       ┆ 3513 XT   ┆ €1,650    ┆ https://w ┆ … ┆ https://w ┆ 55 m²     ┆ 2 rooms ┆ Furnished │\n",
       "│ Nieuwe Pij ┆ Utrecht   ┆ per month ┆ ww.parari ┆   ┆ ww.parari ┆           ┆         ┆           │\n",
       "│ lsweerdstr ┆ (Pijlswee ┆           ┆ us.com/ap ┆   ┆ us.com/re ┆           ┆         ┆           │\n",
       "│ aat 97     ┆ rd-Noor…  ┆           ┆ artme…    ┆   ┆ al-es…    ┆           ┆         ┆           │\n",
       "│ …          ┆ …         ┆ …         ┆ …         ┆ … ┆ …         ┆ …         ┆ …       ┆ …         │\n",
       "│ Flat       ┆ 3531 WR   ┆ €1,635    ┆ https://w ┆ … ┆ https://w ┆ 85 m²     ┆ 3 rooms ┆ Furnished │\n",
       "│ Niasstraat ┆ Utrecht   ┆ per month ┆ ww.parari ┆   ┆ ww.parari ┆           ┆         ┆           │\n",
       "│            ┆ (Laan van ┆           ┆ us.com/ap ┆   ┆ us.com/re ┆           ┆         ┆           │\n",
       "│            ┆ Nieuw-…   ┆           ┆ artme…    ┆   ┆ al-es…    ┆           ┆         ┆           │\n",
       "│ House      ┆ 3551 TB   ┆ €1,695    ┆ https://w ┆ … ┆ https://w ┆ 70 m²     ┆ 3 rooms ┆ Furnished │\n",
       "│ Bremstraat ┆ Utrecht   ┆ per month ┆ ww.parari ┆   ┆ ww.parari ┆           ┆         ┆           │\n",
       "│            ┆ (Egelanti ┆           ┆ us.com/ho ┆   ┆ us.com/re ┆           ┆         ┆           │\n",
       "│            ┆ erstraa…  ┆           ┆ use-f…    ┆   ┆ al-es…    ┆           ┆         ┆           │\n",
       "│ House Sche ┆ 3581 VR   ┆ €1,650    ┆ https://w ┆ … ┆ https://w ┆ 71 m²     ┆ 3 rooms ┆ Furnished │\n",
       "│ lpstraat   ┆ Utrecht   ┆ per month ┆ ww.parari ┆   ┆ ww.parari ┆           ┆         ┆           │\n",
       "│            ┆ (Oudwijk) ┆           ┆ us.com/ho ┆   ┆ us.com/re ┆           ┆         ┆           │\n",
       "│            ┆           ┆           ┆ use-f…    ┆   ┆ al-es…    ┆           ┆         ┆           │\n",
       "│ Flat Grutt ┆ 3514 BH   ┆ €1,550    ┆ https://w ┆ … ┆ https://w ┆ 51 m²     ┆ 2 rooms ┆ Furnished │\n",
       "│ ersdijk 27 ┆ Utrecht   ┆ per month ┆ ww.parari ┆   ┆ ww.parari ┆           ┆         ┆           │\n",
       "│ N          ┆ (Vogelenb ┆           ┆ us.com/ap ┆   ┆ us.com/re ┆           ┆         ┆           │\n",
       "│            ┆ uurt)     ┆           ┆ artme…    ┆   ┆ al-es…    ┆           ┆         ┆           │\n",
       "└────────────┴───────────┴───────────┴───────────┴───┴───────────┴───────────┴─────────┴───────────┘"
      ]
     },
     "execution_count": 11,
     "metadata": {},
     "output_type": "execute_result"
    }
   ],
   "source": [
    "import polars as pl\n",
    "\n",
    "df= pl.DataFrame(listings_collection).unnest(\"features\")\n",
    "df"
   ]
  },
  {
   "cell_type": "code",
   "execution_count": 12,
   "metadata": {},
   "outputs": [
    {
     "data": {
      "text/html": [
       "<div><style>\n",
       ".dataframe > thead > tr,\n",
       ".dataframe > tbody > tr {\n",
       "  text-align: right;\n",
       "  white-space: pre-wrap;\n",
       "}\n",
       "</style>\n",
       "<small>shape: (13, 17)</small><table border=\"1\" class=\"dataframe\"><thead><tr><th>title</th><th>address</th><th>url</th><th>thumbnail</th><th>real_estate_company</th><th>real_estate_company_url</th><th>surface_area</th><th>n_rooms</th><th>interior_type</th><th>city</th><th>website</th><th>price</th><th>price_period</th><th>surface_area_amount</th><th>surface_area_unit</th><th>date</th><th>extracted_at</th></tr><tr><td>str</td><td>str</td><td>str</td><td>str</td><td>str</td><td>str</td><td>str</td><td>f64</td><td>str</td><td>str</td><td>str</td><td>f64</td><td>str</td><td>f64</td><td>str</td><td>str</td><td>datetime[μs]</td></tr></thead><tbody><tr><td>&quot;Flat Aziëlaan&quot;</td><td>&quot;3526 SN Utrech…</td><td>&quot;https://www.pa…</td><td>&quot;https://casco-…</td><td>&quot;B&amp;S Rental Ser…</td><td>&quot;https://www.pa…</td><td>&quot;72 m²&quot;</td><td>2.0</td><td>&quot;Furnished&quot;</td><td>&quot;utrecht&quot;</td><td>&quot;https://www.pa…</td><td>1595.0</td><td>&quot;month&quot;</td><td>72.0</td><td>&quot;m²&quot;</td><td>&quot;2023-11-25&quot;</td><td>2023-11-25 19:09:08</td></tr><tr><td>&quot;House Minahass…</td><td>&quot;3531 KW Utrech…</td><td>&quot;https://www.pa…</td><td>&quot;https://casco-…</td><td>&quot;Lemoo&quot;</td><td>&quot;https://www.pa…</td><td>&quot;60 m²&quot;</td><td>2.0</td><td>&quot;Part-furnished…</td><td>&quot;utrecht&quot;</td><td>&quot;https://www.pa…</td><td>1470.0</td><td>&quot;month&quot;</td><td>60.0</td><td>&quot;m²&quot;</td><td>&quot;2023-11-25&quot;</td><td>2023-11-25 19:09:08</td></tr><tr><td>&quot;Flat Wittevrou…</td><td>&quot;3572 CA Utrech…</td><td>&quot;https://www.pa…</td><td>&quot;https://casco-…</td><td>&quot;Home by Theres…</td><td>&quot;https://www.pa…</td><td>&quot;60 m²&quot;</td><td>2.0</td><td>&quot;Furnished&quot;</td><td>&quot;utrecht&quot;</td><td>&quot;https://www.pa…</td><td>1200.0</td><td>&quot;month&quot;</td><td>60.0</td><td>&quot;m²&quot;</td><td>&quot;2023-11-25&quot;</td><td>2023-11-25 19:09:08</td></tr><tr><td>&quot;Flat Nieuwe Pi…</td><td>&quot;3513 XT Utrech…</td><td>&quot;https://www.pa…</td><td>&quot;https://casco-…</td><td>&quot;Matton Residen…</td><td>&quot;https://www.pa…</td><td>&quot;55 m²&quot;</td><td>2.0</td><td>&quot;Furnished&quot;</td><td>&quot;utrecht&quot;</td><td>&quot;https://www.pa…</td><td>1650.0</td><td>&quot;month&quot;</td><td>55.0</td><td>&quot;m²&quot;</td><td>&quot;2023-11-25&quot;</td><td>2023-11-25 19:09:08</td></tr><tr><td>&quot;Flat Pieter Ni…</td><td>&quot;3514 HG Utrech…</td><td>&quot;https://www.pa…</td><td>&quot;https://casco-…</td><td>&quot;Your-House&quot;</td><td>&quot;https://www.pa…</td><td>&quot;58 m²&quot;</td><td>2.0</td><td>&quot;Furnished&quot;</td><td>&quot;utrecht&quot;</td><td>&quot;https://www.pa…</td><td>1550.0</td><td>&quot;month&quot;</td><td>58.0</td><td>&quot;m²&quot;</td><td>&quot;2023-11-25&quot;</td><td>2023-11-25 19:09:08</td></tr><tr><td>&quot;Flat Flamingos…</td><td>&quot;3582 SW Utrech…</td><td>&quot;https://www.pa…</td><td>&quot;https://casco-…</td><td>&quot;Amstel Housing…</td><td>&quot;https://www.pa…</td><td>&quot;58 m²&quot;</td><td>3.0</td><td>&quot;Furnished&quot;</td><td>&quot;utrecht&quot;</td><td>&quot;https://www.pa…</td><td>1395.0</td><td>&quot;month&quot;</td><td>58.0</td><td>&quot;m²&quot;</td><td>&quot;2023-11-25&quot;</td><td>2023-11-25 19:09:08</td></tr><tr><td>&quot;Flat Herenstra…</td><td>&quot;3512 KC Utrech…</td><td>&quot;https://www.pa…</td><td>&quot;https://casco-…</td><td>&quot;Covers Wonen&quot;</td><td>&quot;https://www.pa…</td><td>&quot;58 m²&quot;</td><td>3.0</td><td>&quot;Furnished&quot;</td><td>&quot;utrecht&quot;</td><td>&quot;https://www.pa…</td><td>1725.0</td><td>&quot;month&quot;</td><td>58.0</td><td>&quot;m²&quot;</td><td>&quot;2023-11-25&quot;</td><td>2023-11-25 19:09:08</td></tr><tr><td>&quot;Flat Willem Ba…</td><td>&quot;3572 PB Utrech…</td><td>&quot;https://www.pa…</td><td>&quot;https://casco-…</td><td>&quot;Rotsvast Utrec…</td><td>&quot;https://www.pa…</td><td>&quot;71 m²&quot;</td><td>2.0</td><td>&quot;Furnished&quot;</td><td>&quot;utrecht&quot;</td><td>&quot;https://www.pa…</td><td>1400.0</td><td>&quot;month&quot;</td><td>71.0</td><td>&quot;m²&quot;</td><td>&quot;2023-11-25&quot;</td><td>2023-11-25 19:09:08</td></tr><tr><td>&quot;Flat Kanaalstr…</td><td>&quot;3531 CH Utrech…</td><td>&quot;https://www.pa…</td><td>&quot;https://casco-…</td><td>&quot;EU-Makelaardij…</td><td>&quot;https://www.pa…</td><td>&quot;55 m²&quot;</td><td>2.0</td><td>&quot;Furnished&quot;</td><td>&quot;utrecht&quot;</td><td>&quot;https://www.pa…</td><td>1750.0</td><td>&quot;month&quot;</td><td>55.0</td><td>&quot;m²&quot;</td><td>&quot;2023-11-25&quot;</td><td>2023-11-25 19:09:08</td></tr><tr><td>&quot;Flat Niasstraa…</td><td>&quot;3531 WR Utrech…</td><td>&quot;https://www.pa…</td><td>&quot;https://casco-…</td><td>&quot;123Wonen Utrec…</td><td>&quot;https://www.pa…</td><td>&quot;85 m²&quot;</td><td>3.0</td><td>&quot;Furnished&quot;</td><td>&quot;utrecht&quot;</td><td>&quot;https://www.pa…</td><td>1635.0</td><td>&quot;month&quot;</td><td>85.0</td><td>&quot;m²&quot;</td><td>&quot;2023-11-25&quot;</td><td>2023-11-25 19:09:08</td></tr><tr><td>&quot;House Bremstra…</td><td>&quot;3551 TB Utrech…</td><td>&quot;https://www.pa…</td><td>&quot;https://casco-…</td><td>&quot;123Wonen Utrec…</td><td>&quot;https://www.pa…</td><td>&quot;70 m²&quot;</td><td>3.0</td><td>&quot;Furnished&quot;</td><td>&quot;utrecht&quot;</td><td>&quot;https://www.pa…</td><td>1695.0</td><td>&quot;month&quot;</td><td>70.0</td><td>&quot;m²&quot;</td><td>&quot;2023-11-25&quot;</td><td>2023-11-25 19:09:08</td></tr><tr><td>&quot;House Schelpst…</td><td>&quot;3581 VR Utrech…</td><td>&quot;https://www.pa…</td><td>&quot;https://casco-…</td><td>&quot;B&amp;S Rental Ser…</td><td>&quot;https://www.pa…</td><td>&quot;71 m²&quot;</td><td>3.0</td><td>&quot;Furnished&quot;</td><td>&quot;utrecht&quot;</td><td>&quot;https://www.pa…</td><td>1650.0</td><td>&quot;month&quot;</td><td>71.0</td><td>&quot;m²&quot;</td><td>&quot;2023-11-25&quot;</td><td>2023-11-25 19:09:08</td></tr><tr><td>&quot;Flat Gruttersd…</td><td>&quot;3514 BH Utrech…</td><td>&quot;https://www.pa…</td><td>&quot;https://casco-…</td><td>&quot;MelvinBloemend…</td><td>&quot;https://www.pa…</td><td>&quot;51 m²&quot;</td><td>2.0</td><td>&quot;Furnished&quot;</td><td>&quot;utrecht&quot;</td><td>&quot;https://www.pa…</td><td>1550.0</td><td>&quot;month&quot;</td><td>51.0</td><td>&quot;m²&quot;</td><td>&quot;2023-11-25&quot;</td><td>2023-11-25 19:09:08</td></tr></tbody></table></div>"
      ],
      "text/plain": [
       "shape: (13, 17)\n",
       "┌───────────┬───────────┬───────────┬───────────┬───┬───────────┬───────────┬───────────┬──────────┐\n",
       "│ title     ┆ address   ┆ url       ┆ thumbnail ┆ … ┆ surface_a ┆ surface_a ┆ date      ┆ extracte │\n",
       "│ ---       ┆ ---       ┆ ---       ┆ ---       ┆   ┆ rea_amoun ┆ rea_unit  ┆ ---       ┆ d_at     │\n",
       "│ str       ┆ str       ┆ str       ┆ str       ┆   ┆ t         ┆ ---       ┆ str       ┆ ---      │\n",
       "│           ┆           ┆           ┆           ┆   ┆ ---       ┆ str       ┆           ┆ datetime │\n",
       "│           ┆           ┆           ┆           ┆   ┆ f64       ┆           ┆           ┆ [μs]     │\n",
       "╞═══════════╪═══════════╪═══════════╪═══════════╪═══╪═══════════╪═══════════╪═══════════╪══════════╡\n",
       "│ Flat      ┆ 3526 SN   ┆ https://w ┆ https://c ┆ … ┆ 72.0      ┆ m²        ┆ 2023-11-2 ┆ 2023-11- │\n",
       "│ Aziëlaan  ┆ Utrecht   ┆ ww.parari ┆ asco-medi ┆   ┆           ┆           ┆ 5         ┆ 25       │\n",
       "│           ┆ (Kanalene ┆ us.com/ap ┆ a-prod.gl ┆   ┆           ┆           ┆           ┆ 19:09:08 │\n",
       "│           ┆ iland-Z…  ┆ artme…    ┆ obal.…    ┆   ┆           ┆           ┆           ┆          │\n",
       "│ House Min ┆ 3531 KW   ┆ https://w ┆ https://c ┆ … ┆ 60.0      ┆ m²        ┆ 2023-11-2 ┆ 2023-11- │\n",
       "│ ahassastr ┆ Utrecht   ┆ ww.parari ┆ asco-medi ┆   ┆           ┆           ┆ 5         ┆ 25       │\n",
       "│ aat       ┆ (Laan van ┆ us.com/ho ┆ a-prod.gl ┆   ┆           ┆           ┆           ┆ 19:09:08 │\n",
       "│           ┆ Nieuw-…   ┆ use-f…    ┆ obal.…    ┆   ┆           ┆           ┆           ┆          │\n",
       "│ Flat Witt ┆ 3572 CA   ┆ https://w ┆ https://c ┆ … ┆ 60.0      ┆ m²        ┆ 2023-11-2 ┆ 2023-11- │\n",
       "│ evrouwens ┆ Utrecht   ┆ ww.parari ┆ asco-medi ┆   ┆           ┆           ┆ 5         ┆ 25       │\n",
       "│ ingel     ┆ (Wittevro ┆ us.com/ap ┆ a-prod.gl ┆   ┆           ┆           ┆           ┆ 19:09:08 │\n",
       "│           ┆ uwen)     ┆ artme…    ┆ obal.…    ┆   ┆           ┆           ┆           ┆          │\n",
       "│ Flat      ┆ 3513 XT   ┆ https://w ┆ https://c ┆ … ┆ 55.0      ┆ m²        ┆ 2023-11-2 ┆ 2023-11- │\n",
       "│ Nieuwe    ┆ Utrecht   ┆ ww.parari ┆ asco-medi ┆   ┆           ┆           ┆ 5         ┆ 25       │\n",
       "│ Pijlsweer ┆ (Pijlswee ┆ us.com/ap ┆ a-prod.gl ┆   ┆           ┆           ┆           ┆ 19:09:08 │\n",
       "│ dstraat   ┆ rd-Noor…  ┆ artme…    ┆ obal.…    ┆   ┆           ┆           ┆           ┆          │\n",
       "│ 97        ┆           ┆           ┆           ┆   ┆           ┆           ┆           ┆          │\n",
       "│ …         ┆ …         ┆ …         ┆ …         ┆ … ┆ …         ┆ …         ┆ …         ┆ …        │\n",
       "│ Flat Nias ┆ 3531 WR   ┆ https://w ┆ https://c ┆ … ┆ 85.0      ┆ m²        ┆ 2023-11-2 ┆ 2023-11- │\n",
       "│ straat    ┆ Utrecht   ┆ ww.parari ┆ asco-medi ┆   ┆           ┆           ┆ 5         ┆ 25       │\n",
       "│           ┆ (Laan van ┆ us.com/ap ┆ a-prod.gl ┆   ┆           ┆           ┆           ┆ 19:09:08 │\n",
       "│           ┆ Nieuw-…   ┆ artme…    ┆ obal.…    ┆   ┆           ┆           ┆           ┆          │\n",
       "│ House Bre ┆ 3551 TB   ┆ https://w ┆ https://c ┆ … ┆ 70.0      ┆ m²        ┆ 2023-11-2 ┆ 2023-11- │\n",
       "│ mstraat   ┆ Utrecht   ┆ ww.parari ┆ asco-medi ┆   ┆           ┆           ┆ 5         ┆ 25       │\n",
       "│           ┆ (Egelanti ┆ us.com/ho ┆ a-prod.gl ┆   ┆           ┆           ┆           ┆ 19:09:08 │\n",
       "│           ┆ erstraa…  ┆ use-f…    ┆ obal.…    ┆   ┆           ┆           ┆           ┆          │\n",
       "│ House Sch ┆ 3581 VR   ┆ https://w ┆ https://c ┆ … ┆ 71.0      ┆ m²        ┆ 2023-11-2 ┆ 2023-11- │\n",
       "│ elpstraat ┆ Utrecht   ┆ ww.parari ┆ asco-medi ┆   ┆           ┆           ┆ 5         ┆ 25       │\n",
       "│           ┆ (Oudwijk) ┆ us.com/ho ┆ a-prod.gl ┆   ┆           ┆           ┆           ┆ 19:09:08 │\n",
       "│           ┆           ┆ use-f…    ┆ obal.…    ┆   ┆           ┆           ┆           ┆          │\n",
       "│ Flat Grut ┆ 3514 BH   ┆ https://w ┆ https://c ┆ … ┆ 51.0      ┆ m²        ┆ 2023-11-2 ┆ 2023-11- │\n",
       "│ tersdijk  ┆ Utrecht   ┆ ww.parari ┆ asco-medi ┆   ┆           ┆           ┆ 5         ┆ 25       │\n",
       "│ 27 N      ┆ (Vogelenb ┆ us.com/ap ┆ a-prod.gl ┆   ┆           ┆           ┆           ┆ 19:09:08 │\n",
       "│           ┆ uurt)     ┆ artme…    ┆ obal.…    ┆   ┆           ┆           ┆           ┆          │\n",
       "└───────────┴───────────┴───────────┴───────────┴───┴───────────┴───────────┴───────────┴──────────┘"
      ]
     },
     "execution_count": 12,
     "metadata": {},
     "output_type": "execute_result"
    }
   ],
   "source": [
    "parsed_price_text = df[\"price_text\"].str.extract_groups(r\"€(?<price>\\d+,?\\d+) per (?<period>\\w+)\")\n",
    "parsed_surface_area = df[\"surface_area\"].str.extract_groups(r\"(?<amount>\\d+)\\s*(?<unit>.*)\")\n",
    "parsed_df = df.with_columns(\n",
    "    city=pl.lit(city),\n",
    "    website=pl.lit(base_url),\n",
    "    price=parsed_price_text.struct.field(\"price\").str.replace(\",\", \"\").cast(pl.Float64),\n",
    "    price_period=parsed_price_text.struct.field(\"period\"),\n",
    "    surface_area_amount=parsed_surface_area.struct.field(\"amount\").cast(pl.Float64),\n",
    "    surface_area_unit=parsed_surface_area.struct.field(\"unit\"),\n",
    "    n_rooms=df[\"n_rooms\"].str.extract(r\"(\\d+) rooms\").cast(pl.Float64),\n",
    "    date=pl.lit(date_now),\n",
    "    extracted_at=pl.from_epoch(pl.lit(ts_now)),\n",
    ").select(pl.exclude(\"price_text\"))\n",
    "parsed_df"
   ]
  },
  {
   "cell_type": "code",
   "execution_count": 13,
   "metadata": {},
   "outputs": [
    {
     "ename": "IsADirectoryError",
     "evalue": "expected a file path; 'data/apartments-list/' is a directory",
     "output_type": "error",
     "traceback": [
      "\u001b[0;31m---------------------------------------------------------------------------\u001b[0m",
      "\u001b[0;31mIsADirectoryError\u001b[0m                         Traceback (most recent call last)",
      "Cell \u001b[0;32mIn[13], line 1\u001b[0m\n\u001b[0;32m----> 1\u001b[0m parsed_df\u001b[39m.\u001b[39;49mwrite_parquet(\u001b[39m\"\u001b[39;49m\u001b[39mdata/apartments-list/\u001b[39;49m\u001b[39m\"\u001b[39;49m)\n",
      "File \u001b[0;32m~/miniconda3/envs/web-crawling/lib/python3.10/site-packages/polars/dataframe/frame.py:3375\u001b[0m, in \u001b[0;36mDataFrame.write_parquet\u001b[0;34m(self, file, compression, compression_level, statistics, row_group_size, use_pyarrow, pyarrow_options)\u001b[0m\n\u001b[1;32m   3373\u001b[0m         file \u001b[39m=\u001b[39m normalize_filepath(file, check_not_directory\u001b[39m=\u001b[39m\u001b[39mFalse\u001b[39;00m)\n\u001b[1;32m   3374\u001b[0m     \u001b[39melse\u001b[39;00m:\n\u001b[0;32m-> 3375\u001b[0m         file \u001b[39m=\u001b[39m normalize_filepath(file)\n\u001b[1;32m   3377\u001b[0m \u001b[39mif\u001b[39;00m use_pyarrow:\n\u001b[1;32m   3378\u001b[0m     tbl \u001b[39m=\u001b[39m \u001b[39mself\u001b[39m\u001b[39m.\u001b[39mto_arrow()\n",
      "File \u001b[0;32m~/miniconda3/envs/web-crawling/lib/python3.10/site-packages/polars/utils/various.py:223\u001b[0m, in \u001b[0;36mnormalize_filepath\u001b[0;34m(path, check_not_directory)\u001b[0m\n\u001b[1;32m    217\u001b[0m path \u001b[39m=\u001b[39m os\u001b[39m.\u001b[39mpath\u001b[39m.\u001b[39mexpanduser(path)  \u001b[39m# noqa: PTH111\u001b[39;00m\n\u001b[1;32m    218\u001b[0m \u001b[39mif\u001b[39;00m (\n\u001b[1;32m    219\u001b[0m     check_not_directory\n\u001b[1;32m    220\u001b[0m     \u001b[39mand\u001b[39;00m os\u001b[39m.\u001b[39mpath\u001b[39m.\u001b[39mexists(path)  \u001b[39m# noqa: PTH110\u001b[39;00m\n\u001b[1;32m    221\u001b[0m     \u001b[39mand\u001b[39;00m os\u001b[39m.\u001b[39mpath\u001b[39m.\u001b[39misdir(path)  \u001b[39m# noqa: PTH112\u001b[39;00m\n\u001b[1;32m    222\u001b[0m ):\n\u001b[0;32m--> 223\u001b[0m     \u001b[39mraise\u001b[39;00m \u001b[39mIsADirectoryError\u001b[39;00m(\u001b[39mf\u001b[39m\u001b[39m\"\u001b[39m\u001b[39mexpected a file path; \u001b[39m\u001b[39m{\u001b[39;00mpath\u001b[39m!r}\u001b[39;00m\u001b[39m is a directory\u001b[39m\u001b[39m\"\u001b[39m)\n\u001b[1;32m    224\u001b[0m \u001b[39mreturn\u001b[39;00m path\n",
      "\u001b[0;31mIsADirectoryError\u001b[0m: expected a file path; 'data/apartments-list/' is a directory"
     ]
    }
   ],
   "source": [
    "parsed_df.write_parquet(\"data/apartments-list/\")"
   ]
  },
  {
   "cell_type": "code",
   "execution_count": null,
   "metadata": {},
   "outputs": [
    {
     "data": {
      "text/plain": [
       "1700930459.0"
      ]
     },
     "execution_count": 21,
     "metadata": {},
     "output_type": "execute_result"
    }
   ],
   "source": [
    "parsed_df[\"extracted_at\"][0].timestamp()"
   ]
  },
  {
   "cell_type": "code",
   "execution_count": null,
   "metadata": {},
   "outputs": [
    {
     "name": "stderr",
     "output_type": "stream",
     "text": [
      "thread '<unnamed>' panicked at py-polars/src/dataframe.rs:804:46:\n",
      "called `Result::unwrap()` on an `Err` value: Os { code: 2, kind: NotFound, message: \"No such file or directory\" }\n",
      "note: run with `RUST_BACKTRACE=1` environment variable to display a backtrace\n"
     ]
    },
    {
     "ename": "PanicException",
     "evalue": "called `Result::unwrap()` on an `Err` value: Os { code: 2, kind: NotFound, message: \"No such file or directory\" }",
     "output_type": "error",
     "traceback": [
      "\u001b[0;31m---------------------------------------------------------------------------\u001b[0m",
      "\u001b[0;31mPanicException\u001b[0m                            Traceback (most recent call last)",
      "\u001b[0;32m/tmp/ipykernel_84993/618319912.py\u001b[0m in \u001b[0;36m?\u001b[0;34m()\u001b[0m\n\u001b[0;32m----> 1\u001b[0;31m \u001b[0mparsed_df\u001b[0m\u001b[0;34m.\u001b[0m\u001b[0mwrite_parquet\u001b[0m\u001b[0;34m(\u001b[0m\u001b[0;34mf\"s3://my-bucket/{DATA_OUTPUTS_DIR.format(city=city, date=date_now)}/{ts_now}.parquet\"\u001b[0m\u001b[0;34m)\u001b[0m\u001b[0;34m\u001b[0m\u001b[0;34m\u001b[0m\u001b[0m\n\u001b[0m",
      "\u001b[0;32m~/miniconda3/envs/web-crawling/lib/python3.10/site-packages/polars/dataframe/frame.py\u001b[0m in \u001b[0;36m?\u001b[0;34m(self, file, compression, compression_level, statistics, row_group_size, use_pyarrow, pyarrow_options)\u001b[0m\n\u001b[1;32m   3414\u001b[0m                     \u001b[0;34m**\u001b[0m\u001b[0;34m(\u001b[0m\u001b[0mpyarrow_options\u001b[0m \u001b[0;32mor\u001b[0m \u001b[0;34m{\u001b[0m\u001b[0;34m}\u001b[0m\u001b[0;34m)\u001b[0m\u001b[0;34m,\u001b[0m\u001b[0;34m\u001b[0m\u001b[0;34m\u001b[0m\u001b[0m\n\u001b[1;32m   3415\u001b[0m                 )\n\u001b[1;32m   3416\u001b[0m \u001b[0;34m\u001b[0m\u001b[0m\n\u001b[1;32m   3417\u001b[0m         \u001b[0;32melse\u001b[0m\u001b[0;34m:\u001b[0m\u001b[0;34m\u001b[0m\u001b[0;34m\u001b[0m\u001b[0m\n\u001b[0;32m-> 3418\u001b[0;31m             self._df.write_parquet(\n\u001b[0m\u001b[1;32m   3419\u001b[0m                 \u001b[0mfile\u001b[0m\u001b[0;34m,\u001b[0m \u001b[0mcompression\u001b[0m\u001b[0;34m,\u001b[0m \u001b[0mcompression_level\u001b[0m\u001b[0;34m,\u001b[0m \u001b[0mstatistics\u001b[0m\u001b[0;34m,\u001b[0m \u001b[0mrow_group_size\u001b[0m\u001b[0;34m\u001b[0m\u001b[0;34m\u001b[0m\u001b[0m\n\u001b[1;32m   3420\u001b[0m             )\n",
      "\u001b[0;31mPanicException\u001b[0m: called `Result::unwrap()` on an `Err` value: Os { code: 2, kind: NotFound, message: \"No such file or directory\" }"
     ]
    }
   ],
   "source": [
    "parsed_df.write_parquet(f\"s3://my-bucket/{DATA_OUTPUTS_DIR.format(city=city, date=date_now)}/{ts_now}.parquet\")"
   ]
  }
 ],
 "metadata": {
  "kernelspec": {
   "display_name": "data-env",
   "language": "python",
   "name": "python3"
  },
  "language_info": {
   "codemirror_mode": {
    "name": "ipython",
    "version": 3
   },
   "file_extension": ".py",
   "mimetype": "text/x-python",
   "name": "python",
   "nbconvert_exporter": "python",
   "pygments_lexer": "ipython3",
   "version": "3.10.13"
  }
 },
 "nbformat": 4,
 "nbformat_minor": 2
}
